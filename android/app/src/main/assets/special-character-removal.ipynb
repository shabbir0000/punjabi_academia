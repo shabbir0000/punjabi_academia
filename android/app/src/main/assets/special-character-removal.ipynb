{
 "cells": [
  {
   "cell_type": "code",
   "execution_count": 15,
   "id": "c4cf99a3",
   "metadata": {},
   "outputs": [
    {
     "name": "stdout",
     "output_type": "stream",
     "text": [
      "Processing... Loading the Excel file.\n",
      "Processing... Saving the cleaned data.\n",
      "Data cleaned and saved to no-char-no-num.xlsx\n"
     ]
    }
   ],
   "source": [
    "import pandas as pd\n",
    "import re\n",
    "\n",
    "# Replace 'modified_file.xlsx' and 'your_output_file.xlsx' with your file paths\n",
    "input_file_path = 'modified_file.xlsx'\n",
    "output_file_path = 'no-char-no-num.xlsx'\n",
    "\n",
    "# Load the Excel file into a DataFrame\n",
    "print(\"Processing... Loading the Excel file.\")\n",
    "df = pd.read_excel(input_file_path)\n",
    "\n",
    "# Define a function to replace specific special characters with a space in all three columns\n",
    "def replace_specific_special_characters_with_space(text):\n",
    "    # Define a regular expression to match specific special characters\n",
    "    pattern = r'[0-9۰-۹,@$#&*{}[\\],=;:/.,()/\\\\#\\$\\%\\^\\&\\*\\!\\+\\{\\}\\[\\]\\?<>_|`\"-?،؟۔!’‘]'\n",
    "    # Replace specific special characters with a space\n",
    "    cleaned_text = re.sub(pattern, ' ', text)\n",
    "    # Remove extra spaces between words\n",
    "    cleaned_text = re.sub(r'\\s+', ' ', cleaned_text).strip()  # Replace multiple spaces with a single space\n",
    "    return cleaned_text\n",
    "\n",
    "# Apply the replace_specific_special_characters_with_space function to all three columns\n",
    "for col in df.columns:\n",
    "    df[col] = df[col].apply(replace_specific_special_characters_with_space)\n",
    "\n",
    "# Save the cleaned DataFrame to a new Excel file, including the header row\n",
    "print(\"Processing... Saving the cleaned data.\")\n",
    "df.to_excel(output_file_path, index=False, header=True)\n",
    "\n",
    "print(f\"Data cleaned and saved to {output_file_path}\")\n"
   ]
  },
  {
   "cell_type": "code",
   "execution_count": null,
   "id": "57590b32",
   "metadata": {},
   "outputs": [],
   "source": []
  }
 ],
 "metadata": {
  "kernelspec": {
   "display_name": "Python 3 (ipykernel)",
   "language": "python",
   "name": "python3"
  },
  "language_info": {
   "codemirror_mode": {
    "name": "ipython",
    "version": 3
   },
   "file_extension": ".py",
   "mimetype": "text/x-python",
   "name": "python",
   "nbconvert_exporter": "python",
   "pygments_lexer": "ipython3",
   "version": "3.9.13"
  }
 },
 "nbformat": 4,
 "nbformat_minor": 5
}
