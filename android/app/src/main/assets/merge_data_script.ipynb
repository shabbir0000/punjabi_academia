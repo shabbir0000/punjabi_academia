{
 "cells": [
  {
   "cell_type": "code",
   "execution_count": 3,
   "id": "802818bd",
   "metadata": {},
   "outputs": [
    {
     "name": "stdout",
     "output_type": "stream",
     "text": [
      "Merged data saved to full_merged_file.xlsx\n"
     ]
    }
   ],
   "source": [
    "import pandas as pd\n",
    "\n",
    "# Replace these with the actual file paths\n",
    "file1_path = 'merge_part_1.xlsx'\n",
    "file2_path = 'merge_part_2.xlsx'\n",
    "\n",
    "# Read both Excel files\n",
    "df1 = pd.read_excel(file1_path)\n",
    "df2 = pd.read_excel(file2_path)\n",
    "\n",
    "# Concatenate the dataframes vertically\n",
    "merged_df = pd.concat([df1, df2], ignore_index=True)\n",
    "\n",
    "# Save the merged dataframe to a new Excel file\n",
    "output_path = 'full_merged_file.xlsx'\n",
    "merged_df.to_excel(output_path, index=False)\n",
    "\n",
    "print(f\"Merged data saved to {output_path}\")\n"
   ]
  },
  {
   "cell_type": "code",
   "execution_count": null,
   "id": "50f9f349",
   "metadata": {},
   "outputs": [],
   "source": []
  }
 ],
 "metadata": {
  "kernelspec": {
   "display_name": "Python 3 (ipykernel)",
   "language": "python",
   "name": "python3"
  },
  "language_info": {
   "codemirror_mode": {
    "name": "ipython",
    "version": 3
   },
   "file_extension": ".py",
   "mimetype": "text/x-python",
   "name": "python",
   "nbconvert_exporter": "python",
   "pygments_lexer": "ipython3",
   "version": "3.9.13"
  }
 },
 "nbformat": 4,
 "nbformat_minor": 5
}
