{
 "cells": [
  {
   "cell_type": "code",
   "execution_count": 1,
   "id": "66866a2e",
   "metadata": {},
   "outputs": [
    {
     "name": "stdout",
     "output_type": "stream",
     "text": [
      "Requirement already satisfied: openpyxl in f:\\softwares\\anaconda\\lib\\site-packages (3.0.10)\n",
      "Requirement already satisfied: et_xmlfile in f:\\softwares\\anaconda\\lib\\site-packages (from openpyxl) (1.1.0)\n",
      "Collecting langdetect\n",
      "  Downloading langdetect-1.0.9.tar.gz (981 kB)\n",
      "     -------------------------------------- 981.5/981.5 kB 2.6 MB/s eta 0:00:00\n",
      "  Preparing metadata (setup.py): started\n",
      "  Preparing metadata (setup.py): finished with status 'done'\n",
      "Requirement already satisfied: six in f:\\softwares\\anaconda\\lib\\site-packages (from langdetect) (1.16.0)\n",
      "Building wheels for collected packages: langdetect\n",
      "  Building wheel for langdetect (setup.py): started\n",
      "  Building wheel for langdetect (setup.py): finished with status 'done'\n",
      "  Created wheel for langdetect: filename=langdetect-1.0.9-py3-none-any.whl size=993225 sha256=98753d3c78fdefc6c56e727db2156b53db1d4b23000119d68f2a277c6a48746d\n",
      "  Stored in directory: c:\\users\\admin\\appdata\\local\\pip\\cache\\wheels\\d1\\c1\\d9\\7e068de779d863bc8f8fc9467d85e25cfe47fa5051fff1a1bb\n",
      "Successfully built langdetect\n",
      "Installing collected packages: langdetect\n",
      "Successfully installed langdetect-1.0.9\n"
     ]
    }
   ],
   "source": [
    "!pip install openpyxl\n",
    "!pip install langdetect\n"
   ]
  },
  {
   "cell_type": "code",
   "execution_count": 44,
   "id": "62996226",
   "metadata": {},
   "outputs": [
    {
     "name": "stdout",
     "output_type": "stream",
     "text": [
      "Row 22 does not contain English alphabet character(s) and is kept.\n",
      "Row 20 does not contain English alphabet character(s) and is kept.\n",
      "Row 19 does not contain English alphabet character(s) and is kept.\n",
      "Row 18 does not contain English alphabet character(s) and is kept.\n",
      "Row 17 does not contain English alphabet character(s) and is kept.\n",
      "Row 16 does not contain English alphabet character(s) and is kept.\n",
      "Row 15 does not contain English alphabet character(s) and is kept.\n",
      "Row 14 does not contain English alphabet character(s) and is kept.\n",
      "Row 13 does not contain English alphabet character(s) and is kept.\n",
      "Row 12 does not contain English alphabet character(s) and is kept.\n",
      "Row 10 does not contain English alphabet character(s) and is kept.\n",
      "Row 9 does not contain English alphabet character(s) and is kept.\n",
      "Row 7 does not contain English alphabet character(s) and is kept.\n",
      "Row 6 does not contain English alphabet character(s) and is kept.\n",
      "Row 4 does not contain English alphabet character(s) and is kept.\n",
      "Row 3 does not contain English alphabet character(s) and is kept.\n",
      "Row 2 does not contain English alphabet character(s) and is kept.\n",
      "Row 1 does not contain English alphabet character(s) and is kept.\n",
      "4 rows containing English alphabet character(s) removed.\n",
      "Saved filtered content to filtered_excel_file.xlsx\n"
     ]
    }
   ],
   "source": [
    "import openpyxl\n",
    "import re\n",
    "\n",
    "# Load the Excel file\n",
    "excel_file_path = 'ajdigall.xlsx'  # Replace with your file path\n",
    "workbook = openpyxl.load_workbook(excel_file_path)\n",
    "worksheet = workbook.active\n",
    "\n",
    "# Regular expression pattern to match English alphabet characters\n",
    "english_alphabet_pattern = re.compile(r'[a-zA-Z]')\n",
    "\n",
    "# Function to check if a cell contains English alphabet character(s)\n",
    "def contains_english_alphabet(text):\n",
    "    if text is not None:\n",
    "        text_str = str(text)\n",
    "        return bool(english_alphabet_pattern.search(text_str))\n",
    "    return False\n",
    "\n",
    "# Convert the generator of rows into a list and iterate through it in reverse order\n",
    "rows = list(worksheet.iter_rows())\n",
    "removed_row_count = 0\n",
    "\n",
    "for row in reversed(rows):  # Start from the first row\n",
    "    # Check each cell in the row\n",
    "    row_contains_english = any(contains_english_alphabet(cell.value) for cell in row)\n",
    "    \n",
    "    if row_contains_english:\n",
    "        worksheet.delete_rows(row[0].row)\n",
    "        removed_row_count += 1\n",
    "    else:\n",
    "        print(f'Row {row[0].row} does not contain English alphabet character(s) and is kept.')\n",
    "\n",
    "# Save the modified Excel file\n",
    "output_file_path = 'filtered_excel_file.xlsx'  # Replace with your desired output file path\n",
    "workbook.save(output_file_path)\n",
    "\n",
    "print(f'{removed_row_count} rows containing English alphabet character(s) removed.')\n",
    "print(f'Saved filtered content to {output_file_path}')\n"
   ]
  },
  {
   "cell_type": "code",
   "execution_count": null,
   "id": "266d93a9",
   "metadata": {},
   "outputs": [],
   "source": []
  }
 ],
 "metadata": {
  "kernelspec": {
   "display_name": "Python 3 (ipykernel)",
   "language": "python",
   "name": "python3"
  },
  "language_info": {
   "codemirror_mode": {
    "name": "ipython",
    "version": 3
   },
   "file_extension": ".py",
   "mimetype": "text/x-python",
   "name": "python",
   "nbconvert_exporter": "python",
   "pygments_lexer": "ipython3",
   "version": "3.9.13"
  }
 },
 "nbformat": 4,
 "nbformat_minor": 5
}
