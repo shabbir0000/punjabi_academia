{
 "cells": [
  {
   "cell_type": "code",
   "execution_count": 1,
   "id": "3242f8b1",
   "metadata": {},
   "outputs": [
    {
     "name": "stdout",
     "output_type": "stream",
     "text": [
      "Word frequencies which are not stop words have been saved to word_frequencies.xlsx\n"
     ]
    }
   ],
   "source": [
    "import pandas as pd\n",
    "\n",
    "# Define the path to your cleaned stop words file\n",
    "stop_words_file_path = \"stop_words_cleaned.txt\"\n",
    "\n",
    "# Read the cleaned stop words from the file\n",
    "stop_words = []\n",
    "with open(stop_words_file_path, \"r\", encoding=\"utf-8\") as stop_words_file:\n",
    "    stop_words = [line.strip() for line in stop_words_file]\n",
    "\n",
    "# Define the path to your Excel dataset\n",
    "dataset_file_path = \"no-char-no-num.xlsx\"  # Replace with the path to your Excel file\n",
    "\n",
    "# Load the dataset from Excel into a DataFrame\n",
    "df = pd.read_excel(dataset_file_path)\n",
    "\n",
    "# Create a dictionary to store word frequencies\n",
    "word_frequencies = {}\n",
    "\n",
    "# Iterate through rows in the dataset and count word frequencies\n",
    "for index, row in df.iterrows():\n",
    "    for column in df.columns:\n",
    "        text = str(row[column])\n",
    "        tokens = text.split()\n",
    "        for token in tokens:\n",
    "            # Check if the token is not in the stop words list\n",
    "            if token not in stop_words:\n",
    "                if token in word_frequencies:\n",
    "                    word_frequencies[token] += 1\n",
    "                else:\n",
    "                    word_frequencies[token] = 1\n",
    "\n",
    "# Create a DataFrame from the word frequencies\n",
    "result_df = pd.DataFrame({\"Word\": list(word_frequencies.keys()), \"Frequency\": list(word_frequencies.values())})\n",
    "\n",
    "# Save the result to an Excel file\n",
    "result_file_path = \"word_frequencies.xlsx\"\n",
    "result_df.to_excel(result_file_path, index=False)\n",
    "\n",
    "print(f\"Word frequencies which are not stop words have been saved to {result_file_path}\")\n"
   ]
  },
  {
   "cell_type": "code",
   "execution_count": 6,
   "id": "e7e80a21",
   "metadata": {
    "scrolled": false
   },
   "outputs": [
    {
     "name": "stdout",
     "output_type": "stream",
     "text": [
      "Top 20 word frequencies (not in stop words) from the dataset have been saved to top_20_words.xlsx\n"
     ]
    }
   ],
   "source": [
    "import pandas as pd\n",
    "\n",
    "# Define the path to your cleaned stop words file\n",
    "stop_words_file_path = \"stop_words_cleaned.txt\"\n",
    "\n",
    "# Read the cleaned stop words from the file\n",
    "stop_words = []\n",
    "with open(stop_words_file_path, \"r\", encoding=\"utf-8\") as stop_words_file:\n",
    "    stop_words = [line.strip() for line in stop_words_file]\n",
    "\n",
    "# Define the path to your Excel dataset\n",
    "dataset_file_path = \"concatenated_data.xlsx\"  # Replace with the path to your dataset file\n",
    "\n",
    "# Load the dataset from Excel into a DataFrame\n",
    "df = pd.read_excel(dataset_file_path)\n",
    "\n",
    "# Create a dictionary to store word frequencies\n",
    "word_frequencies = {}\n",
    "\n",
    "# Iterate through the 'Shahmukhi' column in the dataset and count word frequencies\n",
    "for index, row in df.iterrows():\n",
    "    text = str(row['Shahmukhi'])\n",
    "    tokens = text.split()\n",
    "    for token in tokens:\n",
    "        # Check if the token is not in the stop words list\n",
    "        if token not in stop_words:\n",
    "            if token in word_frequencies:\n",
    "                word_frequencies[token] += 1\n",
    "            else:\n",
    "                word_frequencies[token] = 1\n",
    "\n",
    "# Sort the word frequencies by count in descending order\n",
    "sorted_word_frequencies = sorted(word_frequencies.items(), key=lambda x: x[1], reverse=True)\n",
    "\n",
    "# Take the top 20 high-count words\n",
    "top_20_words = sorted_word_frequencies[:100]\n",
    "\n",
    "# Create a DataFrame from the top 20 words\n",
    "result_df = pd.DataFrame({\"Word\": [word[0] for word in top_20_words], \"Frequency\": [word[1] for word in top_20_words]})\n",
    "\n",
    "# Save the result to an Excel file\n",
    "result_file_path = \"top_20_words.xlsx\"\n",
    "result_df.to_excel(result_file_path, index=False)\n",
    "\n",
    "print(f\"Top 20 word frequencies (not in stop words) from the dataset have been saved to {result_file_path}\")\n"
   ]
  },
  {
   "cell_type": "code",
   "execution_count": null,
   "id": "c5262a12",
   "metadata": {},
   "outputs": [],
   "source": []
  }
 ],
 "metadata": {
  "kernelspec": {
   "display_name": "Python 3 (ipykernel)",
   "language": "python",
   "name": "python3"
  },
  "language_info": {
   "codemirror_mode": {
    "name": "ipython",
    "version": 3
   },
   "file_extension": ".py",
   "mimetype": "text/x-python",
   "name": "python",
   "nbconvert_exporter": "python",
   "pygments_lexer": "ipython3",
   "version": "3.11.5"
  }
 },
 "nbformat": 4,
 "nbformat_minor": 5
}
