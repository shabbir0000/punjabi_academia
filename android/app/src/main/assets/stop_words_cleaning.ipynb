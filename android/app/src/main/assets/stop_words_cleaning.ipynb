{
 "cells": [
  {
   "cell_type": "code",
   "execution_count": 1,
   "id": "5c431c1d",
   "metadata": {},
   "outputs": [
    {
     "name": "stdout",
     "output_type": "stream",
     "text": [
      "Cleaned stop words have been saved to stop_words_cleaned.txt\n"
     ]
    }
   ],
   "source": [
    "# Define the path to your original stop words file\n",
    "original_stop_words_file_path = \"stop_words.txt\"\n",
    "\n",
    "# Define the path for the cleaned stop words file\n",
    "cleaned_stop_words_file_path = \"stop_words_cleaned.txt\"\n",
    "\n",
    "# Initialize an empty list for cleaned stop words\n",
    "cleaned_stop_words = []\n",
    "\n",
    "# Read the original stop words file and clean the words\n",
    "with open(original_stop_words_file_path, \"r\", encoding=\"utf-8\") as stop_words_file:\n",
    "    for line in stop_words_file:\n",
    "        cleaned_line = line.replace(\" \", \"\").strip()  # Remove spaces within words and leading/trailing spaces\n",
    "        cleaned_stop_words.append(cleaned_line)\n",
    "\n",
    "# Write the cleaned stop words to a new file\n",
    "with open(cleaned_stop_words_file_path, \"w\", encoding=\"utf-8\") as cleaned_file:\n",
    "    for cleaned_word in cleaned_stop_words:\n",
    "        cleaned_file.write(cleaned_word + \"\\n\")\n",
    "\n",
    "print(f\"Cleaned stop words have been saved to {cleaned_stop_words_file_path}\")\n"
   ]
  },
  {
   "cell_type": "code",
   "execution_count": null,
   "id": "73364ebd",
   "metadata": {},
   "outputs": [],
   "source": []
  }
 ],
 "metadata": {
  "kernelspec": {
   "display_name": "Python 3 (ipykernel)",
   "language": "python",
   "name": "python3"
  },
  "language_info": {
   "codemirror_mode": {
    "name": "ipython",
    "version": 3
   },
   "file_extension": ".py",
   "mimetype": "text/x-python",
   "name": "python",
   "nbconvert_exporter": "python",
   "pygments_lexer": "ipython3",
   "version": "3.9.13"
  }
 },
 "nbformat": 4,
 "nbformat_minor": 5
}
